{
 "cells": [
  {
   "cell_type": "markdown",
   "metadata": {},
   "source": [
    "# Algorithms, Binary Search & Linked Lists"
   ]
  },
  {
   "cell_type": "markdown",
   "metadata": {},
   "source": [
    "## Tasks Today:\n",
    " \n",
    "1) <b></b>Time/Space Complexity (from yesterday) <br>\n",
    " &nbsp;&nbsp;&nbsp;&nbsp; a) Lists/Arrays <br>\n",
    " &nbsp;&nbsp;&nbsp;&nbsp; a) Dictionaries (Modified Hashmaps) <br>\n",
    " &nbsp;&nbsp;&nbsp;&nbsp; b) Sets <br>\n",
    "2) <b>In-Place Algorithms</b> <br>\n",
    " &nbsp;&nbsp;&nbsp;&nbsp; a) Syntax <br>\n",
    " &nbsp;&nbsp;&nbsp;&nbsp; a) Out of Place Algorithm <br>\n",
    " &nbsp;&nbsp;&nbsp;&nbsp; b) In-Class Exercise #1 <br>\n",
    "3) <b>Two Pointers</b> <br>\n",
    "4) <b>Merge Sort</b> <br>\n",
    " &nbsp;&nbsp;&nbsp;&nbsp; a) Video on Algorithms <br>\n",
    " &nbsp;&nbsp;&nbsp;&nbsp; b) How it Works <br>\n",
    "5) <b>Exercises</b> <br>\n",
    " &nbsp;&nbsp;&nbsp;&nbsp; a) Exercise #1 - Reverse a List in Place Using an In-Place Algorithm <br>\n",
    " &nbsp;&nbsp;&nbsp;&nbsp; b) Exercise #2 - Find Distinct Words <br>\n",
    " &nbsp;&nbsp;&nbsp;&nbsp; c) Exercise #3 - Write a program to implement a Linear Search Algorithm. <br>"
   ]
  },
  {
   "cell_type": "markdown",
   "metadata": {},
   "source": [
    "### Time Space Complexity of Python Data Collections"
   ]
  },
  {
   "cell_type": "code",
   "execution_count": 5,
   "metadata": {},
   "outputs": [],
   "source": [
    "alist = ['Coding', 'is', 'fun', 'value']\n",
    "adict = {'key':25,\n",
    "        'key2':45}\n",
    "\n",
    "aset=set(alist)"
   ]
  },
  {
   "cell_type": "code",
   "execution_count": 3,
   "metadata": {},
   "outputs": [
    {
     "name": "stdout",
     "output_type": "stream",
     "text": [
      "-5030671467007449628\n"
     ]
    }
   ],
   "source": [
    "# Python list (Modified Array)\n",
    "alist[0] # O(1) accessing\n",
    "alist.index('value') #O(n) searching\n",
    "alist.append('value') # O(1) adding onto the end\n",
    "alist.remove('value') # O(n) removing\n",
    "# appending to a specific index or inserting at some index is a bit more complicated O(n)\n",
    "alist.insert(3, 'value')\n",
    "\n",
    "#Dictionaries(Modified Hash Map)\n",
    "adict['key'] #O(1) Accesing a val\n",
    "adict['key']='value' #O(1) inserting or updating k,v pair\n",
    "del adict(['key']) #O(1) removing k,v pair\n",
    "if 'key' in adict #0(1) testing membership\n",
    "if 'key' in adict.keys() #NOT ADVISABLE-returns list we need to test membership vs OG dict O(n) \n",
    "                         #if list, O(n) |if dict , O(1)\n",
    "    \n",
    "#Sets (Hash Table)\n",
    "aset.add('val')#O(1) adding \n",
    "aset.remove('val') #O(1) removal\n",
    "if 'val' in a set: #0(1) membership test\n",
    " "
   ]
  },
  {
   "cell_type": "markdown",
   "metadata": {},
   "source": [
    "## In-Place Algorithms"
   ]
  },
  {
   "cell_type": "markdown",
   "metadata": {},
   "source": [
    "#### Syntax"
   ]
  },
  {
   "cell_type": "code",
   "execution_count": 10,
   "metadata": {},
   "outputs": [
    {
     "data": {
      "text/plain": [
       "[10, 4, 20]"
      ]
     },
     "execution_count": 10,
     "metadata": {},
     "output_type": "execute_result"
    }
   ],
   "source": [
    "my_list = [20,4,10]\n",
    "\n",
    "# var[i],var[i+1]=var[i+1],var[i]\n",
    "#Swap algorithm \n",
    "#in-place = No new memory used\n",
    "def swap(alist,x,y,z):\n",
    "    alist[x],alist[y],alist[z]=alist[z],alist[y],alist[x]\n",
    "    return alist\n",
    "\n",
    "swap(my_list,0,1,2)"
   ]
  },
  {
   "cell_type": "markdown",
   "metadata": {},
   "source": [
    "#### Out of Place Algorithm"
   ]
  },
  {
   "cell_type": "code",
   "execution_count": 14,
   "metadata": {},
   "outputs": [
    {
     "name": "stdout",
     "output_type": "stream",
     "text": [
      "[20, 4, 10]\n",
      "[10, 4, 20]\n",
      "[10]\n",
      "[10, 4]\n",
      "[10, 4, 20]\n"
     ]
    }
   ],
   "source": [
    "#OOP = new object store in mem(typically copy of OG)\n",
    "my_list = [20,4,10]\n",
    "\n",
    "rev = my_list[::-1]\n",
    "\n",
    "print(my_list)\n",
    "print(rev)\n",
    "\n",
    "#What this is doing my_list[::-1]\n",
    "new_list=[]\n",
    "for i in reversed(range(len(my_list))):\n",
    "        new_list.append(my_list[i])          \n",
    "        print(new_list)"
   ]
  },
  {
   "cell_type": "markdown",
   "metadata": {},
   "source": [
    "#### In-Class Exercise #1 <br>\n",
    "<p>Write a function that takes in four arguments (list, index1, index2, index3), and swaps those three positions in the list passed in.</p>"
   ]
  },
  {
   "cell_type": "code",
   "execution_count": 19,
   "metadata": {},
   "outputs": [
    {
     "data": {
      "text/plain": [
       "[6, 4, 3, 8, 4, 2, 10]"
      ]
     },
     "execution_count": 19,
     "metadata": {},
     "output_type": "execute_result"
    }
   ],
   "source": [
    "l_1 = [10, 4, 3, 8, 4, 2, 6]\n",
    "\n",
    "def swap(l,a,b,c):\n",
    "    l[a],l[b],l[c]=l[c],l[b],l[a]\n",
    "    return l\n",
    "\n",
    "swap(l_1,0,4,6)\n"
   ]
  },
  {
   "cell_type": "markdown",
   "metadata": {},
   "source": [
    "## Two Pointers"
   ]
  },
  {
   "cell_type": "markdown",
   "metadata": {},
   "source": [
    "#### Syntax"
   ]
  },
  {
   "cell_type": "code",
   "execution_count": 20,
   "metadata": {},
   "outputs": [
    {
     "data": {
      "text/plain": [
       "[22, 11, 4, 9, 12, 3, 2, 1]"
      ]
     },
     "execution_count": 20,
     "metadata": {},
     "output_type": "execute_result"
    }
   ],
   "source": [
    "#alist[left],alist[right]=alist[right],alist[left]\n",
    "\n",
    "lp= [1,2,3,12,9,4,11,22]\n",
    "\n",
    "def twoPoint(alist):\n",
    "    #Create init pointers below\n",
    "    left=0\n",
    "    right=len(alist)-1\n",
    "    while left <= right:\n",
    "        alist[left],alist[right]=alist[right],alist[left]\n",
    "        left +=1\n",
    "        right -=1\n",
    "    return alist\n",
    "\n",
    "twoPoint(lp)\n",
    "        \n",
    "    "
   ]
  },
  {
   "cell_type": "markdown",
   "metadata": {},
   "source": [
    "#### Video of Algorithms <br>\n",
    "<p>Watch the video about algorithms.</p>\n",
    "\n",
    "https://www.youtube.com/watch?v=Q9HjeFD62Uk\n",
    "\n",
    "https://www.youtube.com/watch?v=kPRA0W1kECg\n",
    "\n",
    "https://www.youtube.com/watch?v=ZZuD6iUe3Pc"
   ]
  },
  {
   "cell_type": "markdown",
   "metadata": {},
   "source": [
    "# Sorting Algorithms"
   ]
  },
  {
   "cell_type": "markdown",
   "metadata": {},
   "source": [
    "#### Bubble Sort\n",
    "\n",
    "Worst Case: O(n^2) Time - O(1) Space"
   ]
  },
  {
   "cell_type": "code",
   "execution_count": 29,
   "metadata": {},
   "outputs": [
    {
     "data": {
      "text/plain": [
       "[5, 6, 7, 20, 20, 39]"
      ]
     },
     "execution_count": 29,
     "metadata": {},
     "output_type": "execute_result"
    }
   ],
   "source": [
    "# Best Case: 0(n) - Linear\n",
    "def swap(i,j,array):\n",
    "    array[i],array[j]=array[j],array[i]\n",
    "\n",
    "def bubbleSort(array):\n",
    "    is_sorted=False\n",
    "    while not is_sorted:\n",
    "        is_sorted=True \n",
    "        for num  in range(len(array)-1):\n",
    "            if array[num]>array[num+1]:\n",
    "                swap(num,num+1,array)\n",
    "                is_sorted=False\n",
    "    return array\n",
    "\n",
    "bubbleSort([20,20,7,6,5,39])"
   ]
  },
  {
   "cell_type": "markdown",
   "metadata": {},
   "source": [
    "##### Insertion Sort\n",
    "\n",
    "Worst Case: O(n^2) time - O(1)space"
   ]
  },
  {
   "cell_type": "code",
   "execution_count": 31,
   "metadata": {},
   "outputs": [
    {
     "data": {
      "text/plain": [
       "[15, 20, 95, 10, 15, 30]"
      ]
     },
     "execution_count": 31,
     "metadata": {},
     "output_type": "execute_result"
    }
   ],
   "source": [
    "list_1=[20,15,95,10,15,30]\n",
    "\n",
    "def swap(i,j,array):\n",
    "    array[i],array[j]=array[j],array[i]\n",
    "    \n",
    "def insertSort(array):\n",
    "    for i in range(1,len(array)):\n",
    "        j=i\n",
    "        while j > 0 and array[j] < array[j-1]:\n",
    "            swap(j,j-1,array)\n",
    "            j-=1\n",
    "        return array\n",
    "    \n",
    "insertSort(list_1)"
   ]
  },
  {
   "cell_type": "markdown",
   "metadata": {},
   "source": [
    "##### Merge Sort"
   ]
  },
  {
   "cell_type": "markdown",
   "metadata": {},
   "source": [
    "#### How it Works"
   ]
  },
  {
   "cell_type": "code",
   "execution_count": null,
   "metadata": {},
   "outputs": [],
   "source": [
    "# Step1 split everything into its own group\n",
    "# step2 From left to right merge two groups together\n",
    "# step3 while merging, place each item in the correct position within merged group\n",
    "# Step4 continue step 2-3 until one group is left\n",
    "\n",
    "write merge sort below\n",
    "\n",
    "sef mergeSort(alist):\n",
    "    print('Spillint', alist)\n",
    "    #1 divide&conquer-divide list in 1/2 and keep doing that until you have isolated one\n",
    "    if len(alist)>1:\n",
    "        mid=(len(alist))//2\n",
    "        left half=alist[:mid]\n",
    "        right half=alist[mid:]\n",
    "        \n",
    "        mergeSort(lefthalf)\n",
    "        mergeSort(righthalf)\n",
    "        \n",
    "        #index pointer for list\n",
    "        i=0\n",
    "        j=0\n",
    "        k=0\n",
    "    #2 compare left and right 1/2's\n",
    "        while i<len(lefthalf) and j<(righthalf):\n",
    "            if lefthalf[]"
   ]
  },
  {
   "cell_type": "markdown",
   "metadata": {},
   "source": [
    "# Binary Search\n",
    "\n",
    "The Binary Search algorithm works by finding the number in the middle of a given array and comparing it to the target. Given that the array is sorted\n",
    "\n",
    "* The worst case run time for this algorithm is `O(log(n))`"
   ]
  },
  {
   "cell_type": "code",
   "execution_count": null,
   "metadata": {},
   "outputs": [],
   "source": [
    "def binarySearchHelperFunc(array,target,left,right):\n",
    "    while left <= right:\n",
    "        middle = (left + right)// 2\n",
    "        potentialMatch = array[middle]\n",
    "        if target == potentialMatch:\n",
    "            return f\"The index is...{middle}\"\n",
    "        elif target < potentialMatch:\n",
    "            right = middle -1\n",
    "        else:\n",
    "            left = middle +1\n",
    "    return -1\n",
    "def binarySearch(array,target):\n",
    "    return binarySearchHelperFunc(array,target,0,len(array)-1)\n",
    "\n",
    "binarySearch([1,5,23,111],23)\n",
    "    "
   ]
  },
  {
   "cell_type": "markdown",
   "metadata": {},
   "source": [
    "# Exercises"
   ]
  },
  {
   "cell_type": "markdown",
   "metadata": {},
   "source": [
    "### Exercise #1 <br>\n",
    "<p>Reverse the list below in-place using an in-place algorithm.<br>For extra credit: Reverse the strings at the same time.</p>"
   ]
  },
  {
   "cell_type": "code",
   "execution_count": 11,
   "metadata": {},
   "outputs": [
    {
     "data": {
      "text/plain": [
       "['.', 'sentence', 'a', 'is', 'this']"
      ]
     },
     "execution_count": 11,
     "metadata": {},
     "output_type": "execute_result"
    }
   ],
   "source": [
    "words = ['this' , 'is', 'a', 'sentence', '.']\n",
    "\n",
    "def swap(left,right,array):\n",
    "    array[left],array[right]= array[right],array[left]\n",
    "    \n",
    "# def swap_str(left,right,string):\n",
    "#     string[left],string[right]= string[right],string[left]\n",
    "\n",
    "# def rev_string(array):\n",
    "#     for i in array:\n",
    "#         left = 0\n",
    "#         right = (len(i)-1)\n",
    "#     while left < right:\n",
    "#         swap_str(left,right,i)\n",
    "#         left += 1\n",
    "#         right -= 1\n",
    "#     return i\n",
    "\n",
    "def rev(array):\n",
    "    left = 0\n",
    "    right = (len(array)-1)\n",
    "#     rev_string(array)\n",
    "    while left < right:\n",
    "        swap(left,right,array)\n",
    "        left += 1\n",
    "        right -= 1\n",
    "    return array\n",
    "\n",
    "rev(words)\n",
    "\n"
   ]
  },
  {
   "cell_type": "markdown",
   "metadata": {},
   "source": [
    "### Exercise #2 <br>\n",
    "<p>Create a function that counts how many distinct words are in the string below, then outputs a dictionary with the words as the key and the value as the amount of times that word appears in the string.<br>Should output:<br>{'a': 5,<br>\n",
    " 'abstract': 1,<br>\n",
    " 'an': 3,<br>\n",
    " 'array': 2, ... etc...</p>"
   ]
  },
  {
   "cell_type": "code",
   "execution_count": 28,
   "metadata": {},
   "outputs": [
    {
     "name": "stdout",
     "output_type": "stream",
     "text": [
      "{'a': 5, 'abstract': 1, 'an': 3, 'array': 2, 'associative': 1, 'be': 1, 'buckets': 1, 'can': 2, 'compute': 1, 'computing': 1, 'data': 2, 'desired': 1, 'found': 1, 'from': 1, 'function': 1, 'hash': 4, 'implements': 1, 'in': 1, 'index': 1, 'into': 1, 'is': 1, 'keys': 1, 'map': 2, 'of': 1, 'or': 1, 'slots': 1, 'structure': 2, 'table': 2, 'that': 1, 'the': 1, 'to': 2, 'type': 1, 'uses': 1, 'value': 1, 'values.': 1, 'which': 2}\n"
     ]
    }
   ],
   "source": [
    "import re\n",
    "\n",
    "text = 'In computing, a hash table hash map is a data structure which implements an associative array abstract data type, a structure that can map keys to values. A hash table uses a hash function to compute an index into an array of buckets or slots from which the desired value can be found'\n",
    "\n",
    "def a_text(string):\n",
    "    count={}\n",
    "    low=string.lower()\n",
    "#     print(low)\n",
    "    c=sorted(list(set(re.split('[ ,]+',low))))\n",
    "    for item in c:\n",
    "        count[item]= 0\n",
    "        count[item]= re.split('[ ,]+',low).count(item)\n",
    "    return count\n",
    "        \n",
    "print(a_text(text))"
   ]
  },
  {
   "cell_type": "markdown",
   "metadata": {},
   "source": [
    "\n",
    "## Exercise #3\n",
    "\n",
    "Write a program to implement a Linear Search Algorithm. Also in a comment, write the Time Complexity of the following algorithm.\n",
    "\n",
    "#### Hint: Linear Searching will require searching a list for a given number. "
   ]
  },
  {
   "cell_type": "code",
   "execution_count": 42,
   "metadata": {},
   "outputs": [
    {
     "name": "stdout",
     "output_type": "stream",
     "text": [
      "[10, 23, 45, 70, 11, 15]\n"
     ]
    },
    {
     "data": {
      "text/plain": [
       "'45 found in index 2'"
      ]
     },
     "execution_count": 42,
     "metadata": {},
     "output_type": "execute_result"
    }
   ],
   "source": [
    "#Time Complexity is O(n) due to algo having to search each index for target until found as opposed to knowing the hash instantaneously\n",
    "nums_list = [10,23,45,70,11,15]\n",
    "#If target not inside list, return -1\n",
    "\n",
    "def linear(array,target):\n",
    "        found = False\n",
    "        tracker=0    \n",
    "        while not found:\n",
    "            for x in array:\n",
    "                if tracker < (len(array)-1):\n",
    "                    if x == target:\n",
    "                        print(array)\n",
    "                        found=True\n",
    "                        return (f'{target} found in index {tracker}')\n",
    "                    else:\n",
    "                        tracker+=1\n",
    "                        pass\n",
    "                else:\n",
    "                    return -1\n",
    "            \n",
    "linear(nums_list,45)        \n",
    "            \n"
   ]
  },
  {
   "cell_type": "code",
   "execution_count": null,
   "metadata": {},
   "outputs": [],
   "source": []
  }
 ],
 "metadata": {
  "kernelspec": {
   "display_name": "Python 3",
   "language": "python",
   "name": "python3"
  },
  "language_info": {
   "codemirror_mode": {
    "name": "ipython",
    "version": 3
   },
   "file_extension": ".py",
   "mimetype": "text/x-python",
   "name": "python",
   "nbconvert_exporter": "python",
   "pygments_lexer": "ipython3",
   "version": "3.8.5"
  }
 },
 "nbformat": 4,
 "nbformat_minor": 2
}
